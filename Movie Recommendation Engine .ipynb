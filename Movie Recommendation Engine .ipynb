{
 "cells": [
  {
   "cell_type": "markdown",
   "source": [
    "# prep and read data"
   ],
   "metadata": {}
  },
  {
   "cell_type": "markdown",
   "source": [
    "Credit : https://github.com/topspinj/recommender-tutorial/blob/master/part-1-item-item-recommender.ipynb\n"
   ],
   "metadata": {}
  },
  {
   "cell_type": "code",
   "execution_count": 2,
   "source": [
    "import numpy as np \n",
    "import pandas as pd \n",
    "\n",
    "import os\n",
    "\n",
    "\n",
    "from datetime import datetime\n",
    "\n",
    "import matplotlib\n",
    "matplotlib.use('nbagg')\n",
    "\n",
    "import matplotlib.pyplot as plt\n",
    "plt.rcParams.update({'figure.max_open_warning': 0})\n",
    "%matplotlib inline\n",
    "\n",
    "import seaborn as sns\n",
    "sns.set_style('whitegrid')\n",
    "import os\n",
    "from scipy import sparse\n",
    "from scipy.sparse import csr_matrix\n",
    "\n",
    "from sklearn.decomposition import TruncatedSVD\n",
    "from sklearn.metrics.pairwise import cosine_similarity\n",
    "import random"
   ],
   "outputs": [],
   "metadata": {
    "code_folding": []
   }
  },
  {
   "cell_type": "code",
   "execution_count": 3,
   "source": [
    "for dirname, _, filenames in os.walk('/Users/luwu/Downloads/archive'):\n",
    "    for filename in filenames:\n",
    "        print(os.path.join(dirname, filename))"
   ],
   "outputs": [
    {
     "output_type": "stream",
     "name": "stdout",
     "text": [
      "/Users/luwu/Downloads/archive/movie_titles.csv\n",
      "/Users/luwu/Downloads/archive/qualifying.txt\n",
      "/Users/luwu/Downloads/archive/combined_data_2.txt\n",
      "/Users/luwu/Downloads/archive/combined_data_3.txt\n",
      "/Users/luwu/Downloads/archive/combined_data_1.txt\n",
      "/Users/luwu/Downloads/archive/combined_data_4.txt\n",
      "/Users/luwu/Downloads/archive/README\n",
      "/Users/luwu/Downloads/archive/probe.txt\n"
     ]
    }
   ],
   "metadata": {}
  },
  {
   "cell_type": "code",
   "execution_count": 70,
   "source": [
    "title=pd.read_csv('/Users/luwu/Downloads/archive/movie_titles.csv',encoding='latin1')"
   ],
   "outputs": [],
   "metadata": {}
  },
  {
   "cell_type": "code",
   "execution_count": 71,
   "source": [
    "title=title[['year', 'title']]"
   ],
   "outputs": [],
   "metadata": {}
  },
  {
   "cell_type": "code",
   "execution_count": 73,
   "source": [
    "title=title.reset_index()"
   ],
   "outputs": [],
   "metadata": {}
  },
  {
   "cell_type": "code",
   "execution_count": 74,
   "source": [
    "title"
   ],
   "outputs": [
    {
     "output_type": "execute_result",
     "data": {
      "text/plain": [
       "       index    year                                              title\n",
       "0          0  2003.0                                    Dinosaur Planet\n",
       "1          1  2004.0                         Isle of Man TT 2004 Review\n",
       "2          2  1997.0                                          Character\n",
       "3          3  1994.0                       Paula Abdul's Get Up & Dance\n",
       "4          4  2004.0                           The Rise and Fall of ECW\n",
       "...      ...     ...                                                ...\n",
       "17765  17765  2002.0  Where the Wild Things Are and Other Maurice Se...\n",
       "17766  17766  2004.0                  Fidel Castro: American Experience\n",
       "17767  17767  2000.0                                              Epoch\n",
       "17768  17768  2003.0                                        The Company\n",
       "17769  17769  2003.0                                       Alien Hunter\n",
       "\n",
       "[17770 rows x 3 columns]"
      ],
      "text/html": [
       "<div>\n",
       "<style scoped>\n",
       "    .dataframe tbody tr th:only-of-type {\n",
       "        vertical-align: middle;\n",
       "    }\n",
       "\n",
       "    .dataframe tbody tr th {\n",
       "        vertical-align: top;\n",
       "    }\n",
       "\n",
       "    .dataframe thead th {\n",
       "        text-align: right;\n",
       "    }\n",
       "</style>\n",
       "<table border=\"1\" class=\"dataframe\">\n",
       "  <thead>\n",
       "    <tr style=\"text-align: right;\">\n",
       "      <th></th>\n",
       "      <th>index</th>\n",
       "      <th>year</th>\n",
       "      <th>title</th>\n",
       "    </tr>\n",
       "  </thead>\n",
       "  <tbody>\n",
       "    <tr>\n",
       "      <td>0</td>\n",
       "      <td>0</td>\n",
       "      <td>2003.0</td>\n",
       "      <td>Dinosaur Planet</td>\n",
       "    </tr>\n",
       "    <tr>\n",
       "      <td>1</td>\n",
       "      <td>1</td>\n",
       "      <td>2004.0</td>\n",
       "      <td>Isle of Man TT 2004 Review</td>\n",
       "    </tr>\n",
       "    <tr>\n",
       "      <td>2</td>\n",
       "      <td>2</td>\n",
       "      <td>1997.0</td>\n",
       "      <td>Character</td>\n",
       "    </tr>\n",
       "    <tr>\n",
       "      <td>3</td>\n",
       "      <td>3</td>\n",
       "      <td>1994.0</td>\n",
       "      <td>Paula Abdul's Get Up &amp; Dance</td>\n",
       "    </tr>\n",
       "    <tr>\n",
       "      <td>4</td>\n",
       "      <td>4</td>\n",
       "      <td>2004.0</td>\n",
       "      <td>The Rise and Fall of ECW</td>\n",
       "    </tr>\n",
       "    <tr>\n",
       "      <td>...</td>\n",
       "      <td>...</td>\n",
       "      <td>...</td>\n",
       "      <td>...</td>\n",
       "    </tr>\n",
       "    <tr>\n",
       "      <td>17765</td>\n",
       "      <td>17765</td>\n",
       "      <td>2002.0</td>\n",
       "      <td>Where the Wild Things Are and Other Maurice Se...</td>\n",
       "    </tr>\n",
       "    <tr>\n",
       "      <td>17766</td>\n",
       "      <td>17766</td>\n",
       "      <td>2004.0</td>\n",
       "      <td>Fidel Castro: American Experience</td>\n",
       "    </tr>\n",
       "    <tr>\n",
       "      <td>17767</td>\n",
       "      <td>17767</td>\n",
       "      <td>2000.0</td>\n",
       "      <td>Epoch</td>\n",
       "    </tr>\n",
       "    <tr>\n",
       "      <td>17768</td>\n",
       "      <td>17768</td>\n",
       "      <td>2003.0</td>\n",
       "      <td>The Company</td>\n",
       "    </tr>\n",
       "    <tr>\n",
       "      <td>17769</td>\n",
       "      <td>17769</td>\n",
       "      <td>2003.0</td>\n",
       "      <td>Alien Hunter</td>\n",
       "    </tr>\n",
       "  </tbody>\n",
       "</table>\n",
       "<p>17770 rows × 3 columns</p>\n",
       "</div>"
      ]
     },
     "metadata": {},
     "execution_count": 74
    }
   ],
   "metadata": {}
  },
  {
   "cell_type": "code",
   "execution_count": 4,
   "source": [
    "if not os.path.isfile('data.csv'):\n",
    "    # Create a file 'data.csv' before reading it\n",
    "    # Read all the files in netflix and store them in one big file('data.csv')\n",
    "    # reading from each of the four files and appendig each rating to a global file 'train.csv'\n",
    "    data = open('data.csv', mode='w')\n",
    "    \n",
    "    row = list()\n",
    "    files=['/Users/luwu/Downloads/archive/combined_data_1.txt']\n",
    "    for file in files:\n",
    "        print(\"Reading ratings from {}...\".format(file))\n",
    "        with open(file) as f:\n",
    "            for line in f: \n",
    "                del row[:] \n",
    "                line = line.strip()\n",
    "                if line.endswith(':'):\n",
    "                    # All below are ratings for this movie, until another movie appears.\n",
    "                    movie_id = line.replace(':', '')\n",
    "                else:\n",
    "                    row = [x for x in line.split(',')]\n",
    "                    row.insert(0, movie_id)\n",
    "                    data.write(','.join(row))\n",
    "                    data.write('\\n')\n",
    "        print(\"Done.\\n\")\n",
    "    data.close()"
   ],
   "outputs": [],
   "metadata": {}
  },
  {
   "cell_type": "code",
   "execution_count": 75,
   "source": [
    "\n",
    "df = pd.read_csv('data.csv', sep=',', \n",
    "                       names=['movie', 'user','rating','date'])\n",
    "df.date = pd.to_datetime(df.date)\n",
    "\n",
    "\n",
    "# we are arranging the ratings according to time.\n",
    "print('Sorting the dataframe by date..')\n",
    "df.sort_values(by='date', inplace=True)\n",
    "print('Done..')"
   ],
   "outputs": [
    {
     "output_type": "stream",
     "name": "stdout",
     "text": [
      "Sorting the dataframe by date..\n",
      "Done..\n"
     ]
    }
   ],
   "metadata": {}
  },
  {
   "cell_type": "code",
   "execution_count": 46,
   "source": [
    "df"
   ],
   "outputs": [
    {
     "output_type": "execute_result",
     "data": {
      "text/plain": [
       "           movie    user  rating       date  movie_id  \\\n",
       "0           1969  204439       3 1999-12-10    1969.0   \n",
       "1           1969  204439       3 1999-12-10    1969.0   \n",
       "2           1969  204439       3 1999-12-10    1969.0   \n",
       "3           1969  204439       3 1999-12-10    1969.0   \n",
       "4           1969  204439       3 1999-12-10    1969.0   \n",
       "...          ...     ...     ...        ...       ...   \n",
       "124074097   1979  660764       3 2005-12-31    1979.0   \n",
       "124074098   1979  660764       3 2005-12-31    1979.0   \n",
       "124074099   1979  660764       3 2005-12-31    1979.0   \n",
       "124074100   1979  660764       3 2005-12-31    1979.0   \n",
       "124074101   1979  660764       3 2005-12-31    1979.0   \n",
       "\n",
       "                                                       title  \n",
       "0                                              The Libertine  \n",
       "1                              Guns of the Magnificent Seven  \n",
       "2                              The Prime of Miss Jean Brodie  \n",
       "3                                    My Side of the Mountain  \n",
       "4          Benny Hill: Complete and Unadulterated: The Na...  \n",
       "...                                                      ...  \n",
       "124074097                                            Macbeth  \n",
       "124074098                                       Don Giovanni  \n",
       "124074099                                     Going in Style  \n",
       "124074100                                      The Europeans  \n",
       "124074101                                           Prophecy  \n",
       "\n",
       "[124074102 rows x 6 columns]"
      ],
      "text/html": [
       "<div>\n",
       "<style scoped>\n",
       "    .dataframe tbody tr th:only-of-type {\n",
       "        vertical-align: middle;\n",
       "    }\n",
       "\n",
       "    .dataframe tbody tr th {\n",
       "        vertical-align: top;\n",
       "    }\n",
       "\n",
       "    .dataframe thead th {\n",
       "        text-align: right;\n",
       "    }\n",
       "</style>\n",
       "<table border=\"1\" class=\"dataframe\">\n",
       "  <thead>\n",
       "    <tr style=\"text-align: right;\">\n",
       "      <th></th>\n",
       "      <th>movie</th>\n",
       "      <th>user</th>\n",
       "      <th>rating</th>\n",
       "      <th>date</th>\n",
       "      <th>movie_id</th>\n",
       "      <th>title</th>\n",
       "    </tr>\n",
       "  </thead>\n",
       "  <tbody>\n",
       "    <tr>\n",
       "      <td>0</td>\n",
       "      <td>1969</td>\n",
       "      <td>204439</td>\n",
       "      <td>3</td>\n",
       "      <td>1999-12-10</td>\n",
       "      <td>1969.0</td>\n",
       "      <td>The Libertine</td>\n",
       "    </tr>\n",
       "    <tr>\n",
       "      <td>1</td>\n",
       "      <td>1969</td>\n",
       "      <td>204439</td>\n",
       "      <td>3</td>\n",
       "      <td>1999-12-10</td>\n",
       "      <td>1969.0</td>\n",
       "      <td>Guns of the Magnificent Seven</td>\n",
       "    </tr>\n",
       "    <tr>\n",
       "      <td>2</td>\n",
       "      <td>1969</td>\n",
       "      <td>204439</td>\n",
       "      <td>3</td>\n",
       "      <td>1999-12-10</td>\n",
       "      <td>1969.0</td>\n",
       "      <td>The Prime of Miss Jean Brodie</td>\n",
       "    </tr>\n",
       "    <tr>\n",
       "      <td>3</td>\n",
       "      <td>1969</td>\n",
       "      <td>204439</td>\n",
       "      <td>3</td>\n",
       "      <td>1999-12-10</td>\n",
       "      <td>1969.0</td>\n",
       "      <td>My Side of the Mountain</td>\n",
       "    </tr>\n",
       "    <tr>\n",
       "      <td>4</td>\n",
       "      <td>1969</td>\n",
       "      <td>204439</td>\n",
       "      <td>3</td>\n",
       "      <td>1999-12-10</td>\n",
       "      <td>1969.0</td>\n",
       "      <td>Benny Hill: Complete and Unadulterated: The Na...</td>\n",
       "    </tr>\n",
       "    <tr>\n",
       "      <td>...</td>\n",
       "      <td>...</td>\n",
       "      <td>...</td>\n",
       "      <td>...</td>\n",
       "      <td>...</td>\n",
       "      <td>...</td>\n",
       "      <td>...</td>\n",
       "    </tr>\n",
       "    <tr>\n",
       "      <td>124074097</td>\n",
       "      <td>1979</td>\n",
       "      <td>660764</td>\n",
       "      <td>3</td>\n",
       "      <td>2005-12-31</td>\n",
       "      <td>1979.0</td>\n",
       "      <td>Macbeth</td>\n",
       "    </tr>\n",
       "    <tr>\n",
       "      <td>124074098</td>\n",
       "      <td>1979</td>\n",
       "      <td>660764</td>\n",
       "      <td>3</td>\n",
       "      <td>2005-12-31</td>\n",
       "      <td>1979.0</td>\n",
       "      <td>Don Giovanni</td>\n",
       "    </tr>\n",
       "    <tr>\n",
       "      <td>124074099</td>\n",
       "      <td>1979</td>\n",
       "      <td>660764</td>\n",
       "      <td>3</td>\n",
       "      <td>2005-12-31</td>\n",
       "      <td>1979.0</td>\n",
       "      <td>Going in Style</td>\n",
       "    </tr>\n",
       "    <tr>\n",
       "      <td>124074100</td>\n",
       "      <td>1979</td>\n",
       "      <td>660764</td>\n",
       "      <td>3</td>\n",
       "      <td>2005-12-31</td>\n",
       "      <td>1979.0</td>\n",
       "      <td>The Europeans</td>\n",
       "    </tr>\n",
       "    <tr>\n",
       "      <td>124074101</td>\n",
       "      <td>1979</td>\n",
       "      <td>660764</td>\n",
       "      <td>3</td>\n",
       "      <td>2005-12-31</td>\n",
       "      <td>1979.0</td>\n",
       "      <td>Prophecy</td>\n",
       "    </tr>\n",
       "  </tbody>\n",
       "</table>\n",
       "<p>124074102 rows × 6 columns</p>\n",
       "</div>"
      ]
     },
     "metadata": {},
     "execution_count": 46
    }
   ],
   "metadata": {}
  },
  {
   "cell_type": "code",
   "execution_count": 6,
   "source": [
    "def missing_df(df):\n",
    "    missing_df=pd.DataFrame(df.apply(lambda x:sum(x.isnull())/len(df)))\n",
    "    missing_df.columns=['pct_missing']\n",
    "    missing_df=missing_df.sort_values(by='pct_missing', ascending=False)\n",
    "    return missing_df\n",
    "\n",
    "\n",
    "#drop duplicates\n",
    "def drop_dup(df):\n",
    "    df=df.drop_duplicates()\n",
    "    return df"
   ],
   "outputs": [],
   "metadata": {}
  },
  {
   "cell_type": "code",
   "execution_count": 7,
   "source": [
    "df=drop_dup(df) #remove duplicates"
   ],
   "outputs": [],
   "metadata": {}
  },
  {
   "cell_type": "code",
   "execution_count": 76,
   "source": [
    "#join df and title to get movie titles \n",
    "\n",
    "df=pd.merge(df, title, left_on='movie', right_on='index')"
   ],
   "outputs": [],
   "metadata": {}
  },
  {
   "cell_type": "code",
   "execution_count": 77,
   "source": [
    "sum(df['title'].isna())"
   ],
   "outputs": [
    {
     "output_type": "execute_result",
     "data": {
      "text/plain": [
       "0"
      ]
     },
     "metadata": {},
     "execution_count": 77
    }
   ],
   "metadata": {}
  },
  {
   "cell_type": "code",
   "execution_count": 78,
   "source": [
    "print(f\"number of unique movies: {df['movie'].nunique()}\")\n",
    "print(f\"number of unique users:{df['user'].nunique()}\")"
   ],
   "outputs": [
    {
     "output_type": "stream",
     "name": "stdout",
     "text": [
      "number of unique movies: 4499\n",
      "number of unique users:470758\n"
     ]
    }
   ],
   "metadata": {}
  },
  {
   "cell_type": "code",
   "execution_count": 79,
   "source": [
    "#how many movies each user rated?\n",
    "\n",
    "user_movies=df.groupby('user').count()"
   ],
   "outputs": [],
   "metadata": {}
  },
  {
   "cell_type": "code",
   "execution_count": 80,
   "source": [
    "user_movies['movie'].describe() # on average users rate 51 movies "
   ],
   "outputs": [
    {
     "output_type": "execute_result",
     "data": {
      "text/plain": [
       "count    470758.000000\n",
       "mean         51.095816\n",
       "std          74.405055\n",
       "min           1.000000\n",
       "25%           8.000000\n",
       "50%          24.000000\n",
       "75%          64.000000\n",
       "max        4467.000000\n",
       "Name: movie, dtype: float64"
      ]
     },
     "metadata": {},
     "execution_count": 80
    }
   ],
   "metadata": {}
  },
  {
   "cell_type": "code",
   "execution_count": 81,
   "source": [
    "#for each movie, how many reviews?\n",
    "movies_reviews=df.groupby('movie')['user'].count()\n"
   ],
   "outputs": [],
   "metadata": {}
  },
  {
   "cell_type": "code",
   "execution_count": 82,
   "source": [
    "movies_reviews.describe() # on average, movies gaterh 4450 reviews"
   ],
   "outputs": [
    {
     "output_type": "execute_result",
     "data": {
      "text/plain": [
       "count      4499.000000\n",
       "mean       5346.468993\n",
       "std       16176.313851\n",
       "min          36.000000\n",
       "25%         192.000000\n",
       "50%         552.000000\n",
       "75%        2538.000000\n",
       "max      193941.000000\n",
       "Name: user, dtype: float64"
      ]
     },
     "metadata": {},
     "execution_count": 82
    }
   ],
   "metadata": {}
  },
  {
   "cell_type": "markdown",
   "source": [
    "# transform data to matrix"
   ],
   "metadata": {}
  },
  {
   "cell_type": "markdown",
   "source": [
    "## user-movie matrix where each row is a user and each feature is a movie"
   ],
   "metadata": {}
  },
  {
   "cell_type": "code",
   "execution_count": 12,
   "source": [
    "from scipy.sparse import csr_matrix"
   ],
   "outputs": [],
   "metadata": {}
  },
  {
   "cell_type": "code",
   "execution_count": 57,
   "source": [
    "def create_matrix(df):\n",
    "    N=df['user'].nunique()\n",
    "    M=df['movie'].nunique()\n",
    "    user_mapper = dict(zip(np.unique(df[\"user\"]), list(range(N))))\n",
    "    movie_mapper = dict(zip(np.unique(df[\"movie\"]), list(range(M))))\n",
    "    \n",
    "    user_inv_mapper = dict(zip(list(range(N)), np.unique(df[\"user\"])))\n",
    "    movie_inv_mapper = dict(zip(list(range(M)), np.unique(df[\"movie\"])))\n",
    "    \n",
    "    user_index = [user_mapper[i] for i in df['user']]\n",
    "    movie_index = [movie_mapper[i] for i in df['movie']]\n",
    "\n",
    "    X = csr_matrix((df[\"rating\"], (movie_index, user_index)), shape=(M, N))\n",
    "    \n",
    "    return X, user_mapper, movie_mapper, user_inv_mapper, movie_inv_mapper"
   ],
   "outputs": [],
   "metadata": {}
  },
  {
   "cell_type": "code",
   "execution_count": 41,
   "source": [
    "np.unique(df[\"user\"])"
   ],
   "outputs": [
    {
     "output_type": "execute_result",
     "data": {
      "text/plain": [
       "array([      6,       7,      10, ..., 2649409, 2649426, 2649429])"
      ]
     },
     "metadata": {},
     "execution_count": 41
    }
   ],
   "metadata": {}
  },
  {
   "cell_type": "code",
   "execution_count": 83,
   "source": [
    "X, user_mapper, movie_mapper, user_inv_mapper, movie_inv_mapper = create_matrix(df)"
   ],
   "outputs": [],
   "metadata": {}
  },
  {
   "cell_type": "code",
   "execution_count": 84,
   "source": [
    "#check sparsity of the matrix \n",
    "\n",
    "sparsity = X.count_nonzero()/(X.shape[0]*X.shape[1])\n",
    "\n",
    "print(f\"Matrix sparsity: {round(sparsity*100,2)}%\")"
   ],
   "outputs": [
    {
     "output_type": "stream",
     "name": "stdout",
     "text": [
      "Matrix sparsity: 1.14%\n"
     ]
    }
   ],
   "metadata": {}
  },
  {
   "cell_type": "markdown",
   "source": [
    "only 1.14% of  cells were populated, but it's more than 0.05% recommended bottomline. "
   ],
   "metadata": {}
  },
  {
   "cell_type": "code",
   "execution_count": 19,
   "source": [
    "from scipy.sparse import save_npz\n",
    "\n",
    "save_npz('user_movie_matrix.npz', X)"
   ],
   "outputs": [],
   "metadata": {}
  },
  {
   "cell_type": "code",
   "execution_count": 45,
   "source": [
    "# Use KNN to identify similar movies\n",
    "\n",
    "from sklearn.neighbors import NearestNeighbors\n",
    "\n",
    "def find_similar_movies(movie_id, X, k, metric='cosine', show_distance=False):\n",
    "    \"\"\"\n",
    "    Finds k-nearest neighbours for a given movie id.\n",
    "    \n",
    "    Args:\n",
    "        movie_id: id of the movie of interest\n",
    "        X: user-item utility matrix\n",
    "        k: number of similar movies to retrieve\n",
    "        metric: distance metric for kNN calculations\n",
    "    \n",
    "    Returns:\n",
    "        list of k similar movie ID's\n",
    "    \"\"\"\n",
    "    neighbour_ids = []\n",
    "    \n",
    "    movie_ind = movie_mapper[movie_id]\n",
    "    movie_vec = X[movie_ind]\n",
    "    k+=1\n",
    "    kNN = NearestNeighbors(n_neighbors=k, algorithm=\"brute\", metric=metric)\n",
    "    kNN.fit(X)\n",
    "    if isinstance(movie_vec, (np.ndarray)):\n",
    "        movie_vec = movie_vec.reshape(1,-1)\n",
    "    neighbour = kNN.kneighbors(movie_vec, return_distance=show_distance)\n",
    "    for i in range(0,k):\n",
    "        n = neighbour.item(i)\n",
    "        neighbour_ids.append(movie_inv_mapper[n])\n",
    "    neighbour_ids.pop(0)\n",
    "    return neighbour_ids"
   ],
   "outputs": [],
   "metadata": {}
  },
  {
   "cell_type": "code",
   "execution_count": 85,
   "source": [
    "\n",
    "movie_titles = dict(zip(df['movie'],df['title']))\n",
    "\n",
    "movie_id = 1979\n",
    "\n",
    "similar_ids = find_similar_movies(movie_id, X, k=10)\n",
    "movie_title = movie_titles[movie_id]\n",
    "\n",
    "print(f\"Because you watched {movie_title}\")\n",
    "for i in similar_ids:\n",
    "    print(movie_titles[i])\n"
   ],
   "outputs": [
    {
     "output_type": "stream",
     "name": "stdout",
     "text": [
      "Because you watched Alien: Resurrection: Collector's Edition: Bonus Material\n",
      "The Great Locomotive Chase\n",
      "Adored: Diary of a Porn Star\n",
      "411VM Skateboarding: Issue 61\n",
      "Showdown in Little Tokyo\n",
      "Clive Barker's Salome / The Forbidden\n",
      "Godmother\n",
      "The Dead Hate the Living\n",
      "Modern Times\n",
      "Ben Harper: Live at the Hollywood Bowl\n",
      "Denise Austin: Ultimate Fat Burner\n"
     ]
    }
   ],
   "metadata": {}
  },
  {
   "cell_type": "code",
   "execution_count": null,
   "source": [],
   "outputs": [],
   "metadata": {}
  }
 ],
 "metadata": {
  "kernelspec": {
   "display_name": "Python 3",
   "language": "python",
   "name": "python3"
  },
  "language_info": {
   "codemirror_mode": {
    "name": "ipython",
    "version": 3
   },
   "file_extension": ".py",
   "mimetype": "text/x-python",
   "name": "python",
   "nbconvert_exporter": "python",
   "pygments_lexer": "ipython3",
   "version": "3.7.4"
  },
  "toc": {
   "base_numbering": 1,
   "nav_menu": {},
   "number_sections": true,
   "sideBar": true,
   "skip_h1_title": false,
   "title_cell": "Table of Contents",
   "title_sidebar": "Contents",
   "toc_cell": false,
   "toc_position": {
    "height": "calc(100% - 180px)",
    "left": "10px",
    "top": "150px",
    "width": "165px"
   },
   "toc_section_display": true,
   "toc_window_display": true
  }
 },
 "nbformat": 4,
 "nbformat_minor": 2
}